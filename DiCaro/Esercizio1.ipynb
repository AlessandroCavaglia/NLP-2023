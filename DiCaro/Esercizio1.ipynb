{
 "cells": [
  {
   "cell_type": "markdown",
   "source": [
    "# Exercise 1\n",
    "Misurazione dell’overlap lessicale tra una serie di definizioni per concetti generici/specifici e concreti/astratti."
   ],
   "metadata": {
    "collapsed": false
   }
  },
  {
   "cell_type": "code",
   "execution_count": 61,
   "outputs": [
    {
     "name": "stderr",
     "output_type": "stream",
     "text": [
      "[nltk_data] Downloading package punkt to\n",
      "[nltk_data]     C:\\Users\\Alberto\\AppData\\Roaming\\nltk_data...\n",
      "[nltk_data]   Package punkt is already up-to-date!\n",
      "[nltk_data] Downloading package stopwords to\n",
      "[nltk_data]     C:\\Users\\Alberto\\AppData\\Roaming\\nltk_data...\n",
      "[nltk_data]   Package stopwords is already up-to-date!\n",
      "[nltk_data] Downloading package wordnet to\n",
      "[nltk_data]     C:\\Users\\Alberto\\AppData\\Roaming\\nltk_data...\n",
      "[nltk_data]   Package wordnet is already up-to-date!\n",
      "[nltk_data] Error loading pattern: Package 'pattern' not found in\n",
      "[nltk_data]     index\n",
      "[nltk_data] Downloading package averaged_perceptron_tagger to\n",
      "[nltk_data]     C:\\Users\\Alberto\\AppData\\Roaming\\nltk_data...\n",
      "[nltk_data]   Package averaged_perceptron_tagger is already up-to-\n",
      "[nltk_data]       date!\n"
     ]
    }
   ],
   "source": [
    "import nltk\n",
    "from nltk.corpus import stopwords\n",
    "from nltk.stem import WordNetLemmatizer\n",
    "from nltk.tokenize import word_tokenize\n",
    "from nltk.tag import pos_tag\n",
    "import statistics\n",
    "import pandas as pd\n",
    "import numpy as np\n",
    "import matplotlib.pyplot as plt\n",
    "\n",
    "nltk.download('punkt')\n",
    "nltk.download('stopwords')\n",
    "nltk.download('wordnet')\n",
    "nltk.download('pattern')\n",
    "nltk.download('averaged_perceptron_tagger')\n",
    "\n",
    "lemmatizer = WordNetLemmatizer()"
   ],
   "metadata": {
    "collapsed": false
   }
  },
  {
   "cell_type": "code",
   "execution_count": 62,
   "outputs": [],
   "source": [
    "filename = 'TLN-definitions-23.tsv'\n",
    "DEVIATION=4 #Use to refine dataset, represent the maximum deviation from the average length of descriptions"
   ],
   "metadata": {
    "collapsed": false
   }
  },
  {
   "cell_type": "markdown",
   "source": [
    "## Define Function\n",
    "Define all function use to elaborate and calculate similarity"
   ],
   "metadata": {
    "collapsed": false
   }
  },
  {
   "cell_type": "code",
   "execution_count": 63,
   "outputs": [],
   "source": [
    "def parse_tsv_file(file_path):\n",
    "    df = pd.read_csv(file_path, sep='\\t')\n",
    "    return df\n",
    "\n",
    "#Use to return the average length of phrases in Corpus\n",
    "def average_length(list):\n",
    "    lengths = [len(sublist) for sublist in list]\n",
    "    avg_length = statistics.mean(lengths)\n",
    "    return avg_length\n",
    "\n",
    "#Use calculate the intersection between two phrase, perform the lexical overlap\n",
    "def intersection(lst1, lst2):\n",
    "    lst3 = [value for value in lst1 if value in lst2]\n",
    "    return lst3\n",
    "\n",
    "#Calculate similarity as lexical overlap\n",
    "def calc_similarity(lists):\n",
    "    result = 0\n",
    "    for list1 in lists:\n",
    "        for list2 in lists:\n",
    "            if list2 != list1:\n",
    "                result += len(intersection(list1, list2)) / min(len(list1), len(list2))\n",
    "    return result / (pow(len(lists),2) - (len(lists)))\n",
    "\n",
    "#Prune all phrase that more different of DEVIATION from the average of length\n",
    "def refine_dataset(dataset,k):\n",
    "    for key in dataset:\n",
    "        avg = int(average_length(dataset[key]))\n",
    "        dataset[key] = [elem for elem in  dataset[key] if abs(len(elem)-avg) <= k]\n",
    "        avg = int(average_length(dataset[key]))\n",
    "    return dataset\n",
    "\n",
    "#Lemmatize phrase and set all verb in infinitive form\n",
    "def lemmatized_tokens(text):\n",
    "    tokens = word_tokenize(text.lower())\n",
    "    stop_words = set(stopwords.words('english'))\n",
    "    lemmas = []\n",
    "    for token, tag in pos_tag(tokens):\n",
    "        if token.isalpha() and token not in stop_words:\n",
    "            if tag.startswith('VB'):\n",
    "                lemmas.append(lemmatizer.lemmatize(token, pos='v'))\n",
    "            else:\n",
    "                lemmas.append(lemmatizer.lemmatize(token))\n",
    "    return lemmas"
   ],
   "metadata": {
    "collapsed": false
   }
  },
  {
   "cell_type": "markdown",
   "source": [
    "# Elaborate Dataset\n",
    "Create a dictionary contains as key the concept and value of lemmatized phrases"
   ],
   "metadata": {
    "collapsed": false
   }
  },
  {
   "cell_type": "code",
   "execution_count": 64,
   "outputs": [],
   "source": [
    "def elaborate_dataset(dataframe):\n",
    "    dataset = {\n",
    "        'door': [],\n",
    "        'ladybug': [],\n",
    "        'pain': [],\n",
    "        'blurriness': []\n",
    "    }\n",
    "    dataframe = dataframe.iloc[:, 1:]  # Rimuovi la prima colona\n",
    "    for index, row in dataframe.iterrows():\n",
    "        for column in dataframe.columns:\n",
    "            dataset[column].extend([lemmatized_tokens(row[column])])\n",
    "    return dataset\n"
   ],
   "metadata": {
    "collapsed": false
   }
  },
  {
   "cell_type": "code",
   "execution_count": 65,
   "outputs": [
    {
     "data": {
      "text/plain": "<Figure size 640x480 with 1 Axes>",
      "image/png": "[encoded data removed]"
     },
     "metadata": {},
     "output_type": "display_data"
    }
   ],
   "source": [
    "dataset = elaborate_dataset(parse_tsv_file(filename))\n",
    "\n",
    "matrix = np.array([[calc_similarity(dataset['pain']), calc_similarity(dataset['blurriness'])],\n",
    "                    [calc_similarity(dataset['door']), calc_similarity(dataset['ladybug'])]])\n",
    "label_matrix = np.array([['Pain', 'Blurriness'],\n",
    "                    ['Door', 'Ladybug']])\n",
    "\n",
    "# Etichette delle righe e delle colonne\n",
    "label_row = ['Astratto', 'Concreto']\n",
    "label_column = ['Generico', 'Specifico']\n",
    "\n",
    "# Creazione del grafico a matrice\n",
    "fig, ax = plt.subplots()\n",
    "im = ax.imshow(matrix, cmap='viridis', alpha=0.0)\n",
    "\n",
    "# Aggiunta delle etichette delle righe e delle colonne\n",
    "ax.set_xticks(np.arange(len(label_column)))\n",
    "ax.set_yticks(np.arange(len(label_row)))\n",
    "ax.set_xticklabels(label_column)\n",
    "ax.set_yticklabels(label_row)\n",
    "\n",
    "\n",
    "for i in range(len(label_row)):\n",
    "    for j in range(len(label_column)):\n",
    "        text = ax.text(j, i, f\"{label_matrix[i, j]}\\n{matrix[i, j]}\", ha='center', va='center')\n",
    "\n"
   ],
   "metadata": {
    "collapsed": false
   }
  },
  {
   "cell_type": "markdown",
   "source": [
    "## Refine Dataset\n",
    "Prune from dataset all phrases shorter than average of length of all phrases plus DEVIATION constants"
   ],
   "metadata": {
    "collapsed": false
   }
  },
  {
   "cell_type": "code",
   "execution_count": 66,
   "outputs": [],
   "source": [
    "dataset = refine_dataset(elaborate_dataset(parse_tsv_file(filename)),DEVIATION)"
   ],
   "metadata": {
    "collapsed": false
   }
  },
  {
   "cell_type": "markdown",
   "source": [
    "## Show the output"
   ],
   "metadata": {
    "collapsed": false
   }
  },
  {
   "cell_type": "code",
   "execution_count": 67,
   "outputs": [
    {
     "data": {
      "text/plain": "<Figure size 640x480 with 1 Axes>",
      "image/png": "[encoded data removed]"
     },
     "metadata": {},
     "output_type": "display_data"
    }
   ],
   "source": [
    "matrix = np.array([[calc_similarity(dataset['pain']), calc_similarity(dataset['blurriness'])],\n",
    "                    [calc_similarity(dataset['door']), calc_similarity(dataset['ladybug'])]])\n",
    "label_matrix = np.array([['Pain', 'Blurriness'],\n",
    "                    ['Door', 'Ladybug']])\n",
    "\n",
    "\n",
    "# Etichette delle righe e delle colonne\n",
    "label_row = ['Astratto', 'Concreto']\n",
    "label_column = ['Generico', 'Specifico']\n",
    "\n",
    "# Creazione del grafico a matrice\n",
    "fig, ax = plt.subplots()\n",
    "im = ax.imshow(matrix, cmap='viridis', alpha=0.0)\n",
    "\n",
    "# Aggiunta delle etichette delle righe e delle colonne\n",
    "ax.set_xticks(np.arange(len(label_column)))\n",
    "ax.set_yticks(np.arange(len(label_row)))\n",
    "ax.set_xticklabels(label_column)\n",
    "ax.set_yticklabels(label_row)\n",
    "\n",
    "\n",
    "for i in range(len(label_row)):\n",
    "    for j in range(len(label_column)):\n",
    "        text = ax.text(j, i, f\"{label_matrix[i, j]}\\n{matrix[i, j]}\", ha='center', va='center')\n",
    "\n",
    "\n"
   ],
   "metadata": {
    "collapsed": false
   }
  }
 ],
 "metadata": {
  "kernelspec": {
   "display_name": "Python 3",
   "language": "python",
   "name": "python3"
  },
  "language_info": {
   "codemirror_mode": {
    "name": "ipython",
    "version": 2
   },
   "file_extension": ".py",
   "mimetype": "text/x-python",
   "name": "python",
   "nbconvert_exporter": "python",
   "pygments_lexer": "ipython2",
   "version": "2.7.6"
  }
 },
 "nbformat": 4,
 "nbformat_minor": 0
}
