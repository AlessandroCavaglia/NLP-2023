{
 "cells": [
  {
   "cell_type": "markdown",
   "source": [
    "# Exercise 3\n",
    "Si richiede un’implementazione della teoria sulle valenze di Patrick Hanks. In particolare, partendo da un corpus a scelta e uno specifico verbo (tendenzialmente non troppo frequente e/o generico ma nemmeno raro), l’idea è di costruire dei possibili cluster semantici, con relativa frequenza. Ad es., dato il verbo \"to see\" con valenza v = 2, e usando un parser sintattico (ad es. Spacy), si possono collezionare eventuali fillers per i ruoli\n",
    "di subj e obj del verbo, per poi convertirli in semantic types. Un cluster frequente su \"to see\" potrebbe unire subj = noun.person con obj = noun.arti f act. Si richiede di partire da un corpus di almeno alcune centinaia di istanze del verbo"
   ],
   "metadata": {
    "collapsed": false
   }
  },
  {
   "cell_type": "code",
   "execution_count": 47,
   "outputs": [],
   "source": [
    "import re\n",
    "import spacy\n",
    "from nltk.corpus import wordnet\n",
    "\n",
    "nlp = spacy.load(\"en_core_web_sm\")"
   ],
   "metadata": {
    "collapsed": false
   }
  },
  {
   "cell_type": "code",
   "execution_count": 48,
   "outputs": [],
   "source": [
    "VERB=\"hit\"\n",
    "CATEGORY_HEIGHT=2\n",
    "MIN_SENTENCES=4\n",
    "\n",
    "file_path = 'Corpus3_HIT'"
   ],
   "metadata": {
    "collapsed": false
   }
  },
  {
   "cell_type": "code",
   "execution_count": 49,
   "outputs": [],
   "source": [
    "def parse_file(file_path):\n",
    "    with open(file_path, 'r', encoding='utf-8') as file:\n",
    "        testo = file.read()\n",
    "    # Utilizziamo un'espressione regolare per separare il testo in frasi\n",
    "    # considerando il punto seguito da uno spazio come delimitatore delle frasi\n",
    "    phrases = re.split('\\n', testo)\n",
    "    return phrases\n",
    "\n",
    "def tokenize_sentences(dataset):\n",
    "    tokenized_dataset=[]\n",
    "    for sentence in dataset:\n",
    "        tokenized_dataset.append(nlp(sentence))\n",
    "    return tokenized_dataset\n",
    "\n",
    "dataset = parse_file(file_path)\n",
    "dataset = tokenize_sentences(dataset)"
   ],
   "metadata": {
    "collapsed": false
   }
  },
  {
   "cell_type": "code",
   "execution_count": 50,
   "outputs": [
    {
     "name": "stdout",
     "output_type": "stream",
     "text": [
      "Total sentences:  199 Number of sentences parsed correctly:  193\n"
     ]
    }
   ],
   "source": [
    "#Dato il verbo di valenza 2 estraggo i relativi subj e obj se non si riesce a riconoscere uno dei due elementi la frase viene rimossa\n",
    "def extract_verb_parameters(tokenized_dataset, verb):\n",
    "    verb_parameters=[]\n",
    "    for sentence in tokenized_dataset:\n",
    "        subject=None\n",
    "        complement_object=None\n",
    "        for token in sentence:\n",
    "            if token.head.lemma_.lower() == verb:\n",
    "                if token.dep_ == \"nsubj\":\n",
    "                    subject = token.text\n",
    "                elif token.dep_ == \"dobj\":\n",
    "                    complement_object = token.text\n",
    "\n",
    "        if subject is not None and subject != '' and complement_object is not None and complement_object!= '':\n",
    "            verb_parameters.append((subject,complement_object,sentence))\n",
    "    return verb_parameters\n",
    "\n",
    "verb_parameters=extract_verb_parameters(dataset,VERB)\n",
    "print(\"Total sentences: \",len(dataset),\"Number of sentences parsed correctly: \",len(verb_parameters))"
   ],
   "metadata": {
    "collapsed": false
   }
  },
  {
   "cell_type": "code",
   "execution_count": 51,
   "outputs": [],
   "source": [
    "#Da WordNet si lavora sugli hyperonimi e si risale fino ad arrivare ad altezza CATEGORY_HEIGHT del albero di WN\n",
    "def find_meaning_groups(verb_parameters):\n",
    "    meanings={}\n",
    "    for combination in verb_parameters:\n",
    "        subj=combination[0]\n",
    "        obj=combination[1]\n",
    "        #Prendo i sensi di soggetto e oggetto\n",
    "        subj_meaning=wordnet.synsets(subj)\n",
    "        obj_meaning = wordnet.synsets(obj)\n",
    "        if len(subj_meaning)>0 and len(obj_meaning)>0:\n",
    "            #prendo i primi\n",
    "            subj_meaning=subj_meaning[0]\n",
    "            obj_meaning=obj_meaning[0]\n",
    "            break_loop=True\n",
    "            #Lavoro sull'esplorazione per il soggetto\n",
    "            while break_loop:\n",
    "                if subj_meaning.max_depth() <= CATEGORY_HEIGHT:\n",
    "                    break_loop=False\n",
    "                else:\n",
    "                    hypernyms=subj_meaning.hypernyms()\n",
    "                    if len(hypernyms)==0:\n",
    "                        break_loop=False\n",
    "                    else:\n",
    "                        subj_meaning = hypernyms[0]\n",
    "            break_loop = True\n",
    "            #Lavoro sull'esplorazione per l'oggetto\n",
    "            while break_loop:\n",
    "                if obj_meaning.max_depth() <= CATEGORY_HEIGHT:\n",
    "                    break_loop = False\n",
    "                else:\n",
    "                    hypernyms = obj_meaning.hypernyms()\n",
    "                    if len(hypernyms) == 0:\n",
    "                        break_loop = False\n",
    "                    else:\n",
    "                        obj_meaning = hypernyms[0]\n",
    "            #Combino i significati a livello CATEGORY_HEIGHT trovati per oggetto e soggetto e li aggiungo se non ci sono già\n",
    "            combination_name=(subj_meaning.name()+\"--\"+obj_meaning.name())\n",
    "            if combination_name in meanings:\n",
    "                meanings[combination_name].append(combination)\n",
    "            else:\n",
    "                meanings[combination_name]=[]\n",
    "                meanings[combination_name].append(combination)\n",
    "    return meanings"
   ],
   "metadata": {
    "collapsed": false
   }
  },
  {
   "cell_type": "markdown",
   "source": [
    "## Number of meanings for Verb"
   ],
   "metadata": {
    "collapsed": false
   }
  },
  {
   "cell_type": "code",
   "execution_count": 52,
   "outputs": [
    {
     "name": "stdout",
     "output_type": "stream",
     "text": [
      "Number of meanings (using CATEGORY_HEIGHT = 2 ):  36\n"
     ]
    }
   ],
   "source": [
    "meanings=find_meaning_groups(verb_parameters)\n",
    "print(\"Number of meanings (using CATEGORY_HEIGHT =\",str(CATEGORY_HEIGHT),\"): \",len(meanings))"
   ],
   "metadata": {
    "collapsed": false
   }
  },
  {
   "cell_type": "markdown",
   "source": [
    "## Show All meanings extract\n",
    "Print result and show how many sentence for each meaning, the average and the all sentences"
   ],
   "metadata": {
    "collapsed": false
   }
  },
  {
   "cell_type": "code",
   "execution_count": 53,
   "outputs": [
    {
     "name": "stdout",
     "output_type": "stream",
     "text": [
      "MEANING:  communication.n.02--communication.n.02\n",
      "NUMBER OF SENTENCES:  5\n",
      "SENTENCES:  [('jokes', 'note', The comedian's jokes hit a sour note, and the audience responded with awkward silence.), ('statement', 'headlines', The actor's controversial statement hit the headlines, sparking a media frenzy.), ('news', 'headlines', The news of the scandal hit the headlines, dominating the media's attention.), ('news', 'headlines', The news of the scandal hit the headlines, dominating the media's attention for weeks.), ('news', 'headlines', The news hit the headlines, dominating newspaper front pages and capturing public attention.)]\n",
      "\n",
      "MEANING:  communication.n.02--object.n.01\n",
      "NUMBER OF SENTENCES:  4\n",
      "SENTENCES:  [('novel', 'shelves', The novel hit the shelves and quickly became a bestseller, captivating readers worldwide.), ('news', 'mill', The news hit the rumor mill, sparking speculation and gossip among friends and colleagues.), ('news', 'media', The news of the scandal hit social media, sparking a flurry of posts and discussions.), ('news', 'courtroom', The news hit the courtroom, leading to a sensational trial that captivated the public.)]\n",
      "\n",
      "MEANING:  object.n.01--attribute.n.02\n",
      "NUMBER OF SENTENCES:  4\n",
      "SENTENCES:  [('album', 'chord', The band's new album hit a chord with listeners, receiving critical acclaim.), ('painting', 'chord', The painting hit a chord with art enthusiasts, receiving praise for its thought-provoking imagery.), ('car', 'bump', The car hit a speed bump, causing a momentary jolt before continuing smoothly.), ('car', 'bump', The car hit a speed bump, causing a momentary jolt before continuing smoothly on the road.)]\n",
      "\n",
      "MEANING:  causal_agent.n.01--psychological_feature.n.01\n",
      "NUMBER OF SENTENCES:  21\n",
      "SENTENCES:  [('athlete', 'performance', The athlete hit his peak performance during the championship game, securing the gold medal.), ('player', 'goal', The soccer player hit a remarkable goal from a long-range shot.), ('surfer', 'waves', The surfer hit the waves, riding them with skill and grace.), ('player', 'throw', The basketball player hit a free throw, scoring a crucial point for the team.), ('toddler', 'spurt', The toddler hit a growth spurt, quickly outgrowing his clothes.), ('player', 'shot', The basketball player hit a jump shot, scoring two points for the team.), ('scientist', 'breakthrough', The scientist hit a breakthrough in their research, uncovering a groundbreaking discovery.), ('player', 'shot', The player hit a drop shot, catching the opponent off guard and winning the point.), ('golfer', 'shot', The golfer hit a chip shot, landing the ball close to the hole with finesse.), ('actress', 'mark', The actress hit her mark, delivering her lines with perfect timing and emotion.), ('actor', 'audition', The actor hit the audition, impressing the casting directors with their exceptional talent.), ('writer', 'stride', The writer hit a creative stride, producing chapters after chapters of compelling storytelling.), ('dancer', 'pirouette', The dancer hit a perfect pirouette, displaying grace and precision in their movements.), ('player', 'shot', The player hit a topspin shot, causing the ball to spin forward and bounce high.), ('child', 'spurt', The child hit a growth spurt, shooting up several inches within a few months.), ('chef', 'roadblock', The chef hit a culinary roadblock, struggling to create a new and innovative dish.), ('player', 'forehand', The player hit a powerful forehand, sending the tennis ball flying across the court.), ('writer', 'breakthrough', The writer hit a literary breakthrough, receiving critical acclaim for their latest novel.), ('athlete', 'best', The athlete hit a personal best, breaking their previous record in the race.), ('writer', 'roadblock', The writer hit a roadblock in the plot development, struggling to find a suitable resolution.), ('scientist', 'breakthrough', The scientist hit a breakthrough in their research, uncovering a groundbreaking discovery that would shape the future.)]\n",
      "\n",
      "MEANING:  causal_agent.n.01--object.n.01\n",
      "NUMBER OF SENTENCES:  32\n",
      "SENTENCES:  [('player', 'ball', The soccer player hit the ball with precision, curving it into the top corner of the net.), ('writer', 'block', The writer hit a creative block, struggling to find inspiration for his next novel.), ('cyclist', 'brakes', The cyclist hit the brakes to avoid colliding with a pedestrian crossing the road.), ('detective', 'end', The detective hit a dead end in the investigation, unable to find any further leads.), ('teacher', 'books', The teacher hit the books to prepare for the upcoming exam.), ('writer', 'block', The writer hit a writer's block, struggling to find inspiration for the next chapter.), ('hiker', 'trail', The hiker hit the trail early in the morning, eager to explore the scenic mountains.), ('pianist', 'keys', The pianist hit the keys with passion, producing a beautiful melody.), ('actor', 'carpet', The actor hit the red carpet, captivating the audience with their glamorous appearance.), ('cyclist', 'pothole', The cyclist hit a pothole, causing a sudden jolt and almost losing control of the bike.), ('driver', 'horn', The driver hit the horn to alert pedestrians of their presence.), ('criminal', 'bank', The criminal hit the bank, executing a meticulously planned heist.), ('boxer', 'bag', The boxer hit the punching bag, channeling their frustration and anger into powerful blows.), ('entrepreneur', 'ground', The entrepreneur hit the ground running, launching a successful startup in a competitive market.), ('cyclist', 'trail', The cyclist hit the trail, pedaling uphill with determination and strength.), ('surgeon', 'room', The surgeon hit the operating room, ready to perform a life-saving procedure.), ('driver', 'accelerator', The driver hit the accelerator, speeding down the highway with adrenaline rushing through their veins.), ('chef', 'kitchen', The chef hit the kitchen, preparing a delectable feast for the guests.), ('musician', 'studio', The musician hit the studio, recording their highly anticipated album.), ('actor', 'screen', The actor hit the big screen, starring in a blockbuster movie that catapulted their fame.), ('student', 'books', The student hit the books, studying late into the night to prepare for the exam.), ('cyclist', 'slope', The cyclist hit a downhill slope, picking up speed as they descended the mountain.), ('actor', 'room', The actor hit the audition room, delivering a captivating performance that impressed the casting directors.), ('chef', 'stove', The chef hit the stove, preparing a gourmet meal for a special occasion.), ('entrepreneur', 'block', The entrepreneur hit a stumbling block when faced with a challenging market situation.), ('writer', 'wall', The writer hit a metaphorical wall, struggling to find inspiration for their next project.), ('dancer', 'floor', The dancer hit the floor, showcasing their skill and artistry through graceful movements.), ('musician', 'plateau', The musician hit a creative plateau, struggling to compose new melodies and lyrics.), ('chef', 'grill', The chef hit the grill, cooking up a mouthwatering feast for a backyard barbecue.), ('athlete', 'gym', The athlete hit the gym, training rigorously to improve their strength and performance.), ('actor', 'screen', The actor hit the small screen, starring in a critically acclaimed television series.), ('driver', 'brakes', The driver hit the brakes abruptly, narrowly avoiding a collision with a pedestrian.)]\n",
      "\n",
      "MEANING:  process.n.06--object.n.01\n",
      "NUMBER OF SENTENCES:  6\n",
      "SENTENCES:  [('earthquake', 'city', The earthquake hit the city, causing buildings to crumble and widespread panic.), ('thunderstorm', 'city', The thunderstorm hit the city, causing power outages and flooding.), ('storm', 'coastline', The storm hit the coastline, unleashing powerful winds and crashing waves.), ('storm', 'region', The storm hit the region, causing widespread power outages and damage to property.), ('storm', 'city', The storm hit the city, causing widespread chaos and disrupting daily life.), ('storm', 'coast', The storm hit the coast, causing widespread evacuations and damage to coastal communities.)]\n",
      "\n",
      "MEANING:  causal_agent.n.01--communication.n.02\n",
      "NUMBER OF SENTENCES:  12\n",
      "SENTENCES:  [('athlete', 'record', The athlete hit a personal record, surpassing his previous best by a significant margin.), ('driver', 'pedal', The driver hit the gas pedal, accelerating down the highway.), ('surgeon', 'target', The surgeon hit the target precisely, performing a delicate procedure with utmost precision.), ('artist', 'artwork', The artist hit a creative breakthrough, producing artwork that pushed the boundaries of imagination.), ('singer', 'note', The singer hit a high note, impressing the audience with their vocal range.), ('artist', 'milestone', The artist hit a milestone, showcasing their artwork in a prestigious gallery.), ('cyclist', 'record', The cyclist hit a personal record, surpassing their previous best time in a race.), ('musician', 'note', The musician hit a wrong note, momentarily interrupting the flow of the performance.), ('musician', 'note', The musician hit a high note, showcasing their vocal range and control.), ('musician', 'note', The musician hit a sour note, momentarily throwing off the harmony of the performance.), ('teacher', 'milestone', The teacher hit a teaching milestone, celebrating years of dedication and impact on students' lives.), ('cyclist', 'record', The cyclist hit a speed record, pedaling with determination and breaking barriers.)]\n",
      "\n",
      "MEANING:  communication.n.02--group.n.01\n",
      "NUMBER OF SENTENCES:  5\n",
      "SENTENCES:  [('news', 'family', The news of the accident hit the family hard, leaving them in shock and disbelief.), ('news', 'community', The news of the accident hit the community, prompting an outpouring of support and concern.), ('news', 'industry', The news of the merger hit the industry, causing a stir among competitors and investors.), ('news', 'public', The news of the scandal hit the public, triggering a heated debate and demands for justice.), ('news', 'community', The news hit the community, spreading rapidly and leading to discussions among neighbors.)]\n",
      "\n",
      "MEANING:  causal_agent.n.01--group.n.01\n",
      "NUMBER OF SENTENCES:  4\n",
      "SENTENCES:  [('virus', 'population', The virus hit the population, spreading rapidly and causing a public health crisis.), ('player', 'streak', The player hit a winning streak, triumphing in every match of the tournament.), ('cyclist', 'line', The cyclist hit the finish line, celebrating a hard-earned victory.), ('teacher', 'generations', The teacher hit a teaching milestone, inspiring generations of students throughout their career.)]\n",
      "\n",
      "MEANING:  causal_agent.n.01--attribute.n.02\n",
      "NUMBER OF SENTENCES:  7\n",
      "SENTENCES:  [('author', 'snag', The author hit a snag in the plot development, struggling to find a suitable resolution.), ('golfer', 'hole', The golfer hit a hole-in-one, achieving a rare and impressive feat.), ('guitarist', 'chord', The guitarist hit a chord, creating a resonating sound that filled the concert hall.), ('guitarist', 'chord', The guitarist hit a power chord, filling the room with an electrifying sound.), ('gardener', 'soil', The gardener hit the soil, planting seeds and nurturing the garden with care.), ('artist', 'impasse', The artist hit a creative impasse, struggling to find inspiration for their next masterpiece.), ('entrepreneur', 'snag', The entrepreneur hit a snag in the business plan, encountering unexpected challenges and setbacks.)]\n",
      "\n",
      "MEANING:  causal_agent.n.01--relation.n.01\n",
      "NUMBER OF SENTENCES:  4\n",
      "SENTENCES:  [('chef', 'jackpot', The chef hit the jackpot with his culinary skills, earning a Michelin star.), ('player', 'slice', The player hit a slice, causing the tennis ball to curve sharply and surprise the opponent.), ('entrepreneur', 'jackpot', The entrepreneur hit the jackpot, securing a lucrative business deal that propelled their company to success.), ('entrepreneur', 'jackpot', The entrepreneur hit the jackpot, securing funding from a major investor.)]\n",
      "\n",
      "MEANING:  communication.n.02--psychological_feature.n.01\n",
      "NUMBER OF SENTENCES:  5\n",
      "SENTENCES:  [('news', 'grapevine', The news hit the grapevine, spreading quickly among gossip-hungry individuals.), ('news', 'airwaves', The news hit the airwaves, spreading across radio and television stations.), ('news', 'market', The news of the scandal hit the stock market, causing a sharp decline in share prices.), ('news', 'airwaves', The news hit the airwaves, reaching millions of listeners through radio and podcasts.), ('news', 'market', The news hit the market, leading to fluctuations in stock prices and investor sentiment.)]\n",
      "\n",
      "AVARAGE NUMBER OF SENTENCES FOR MEANING:  4.111111111111111\n"
     ]
    }
   ],
   "source": [
    "avg=0\n",
    "for key in meanings:\n",
    "    if MIN_SENTENCES <= len(meanings[key]):\n",
    "        print(\"MEANING: \",key)\n",
    "        print(\"NUMBER OF SENTENCES: \",len(meanings[key]))\n",
    "        print(\"SENTENCES: \",meanings[key])\n",
    "        print(\"\")\n",
    "    avg += len(meanings[key])\n",
    "avg=avg/len(meanings)\n",
    "print(\"AVARAGE NUMBER OF SENTENCES FOR MEANING: \",avg)"
   ],
   "metadata": {
    "collapsed": false
   }
  }
 ],
 "metadata": {
  "kernelspec": {
   "display_name": "Python 3",
   "language": "python",
   "name": "python3"
  },
  "language_info": {
   "codemirror_mode": {
    "name": "ipython",
    "version": 2
   },
   "file_extension": ".py",
   "mimetype": "text/x-python",
   "name": "python",
   "nbconvert_exporter": "python",
   "pygments_lexer": "ipython2",
   "version": "2.7.6"
  }
 },
 "nbformat": 4,
 "nbformat_minor": 0
}
