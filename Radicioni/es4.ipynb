{
 "cells": [
  {
   "cell_type": "code",
   "execution_count": 78,
   "metadata": {
    "collapsed": true
   },
   "outputs": [],
   "source": [
    "import os\n",
    "import glob\n",
    "import random\n",
    "import nltk\n",
    "import numpy as np\n",
    "from gensim.models import KeyedVectors\n",
    "from sklearn.model_selection import train_test_split\n",
    "from sklearn.metrics.pairwise import cosine_similarity\n",
    "\n",
    "lemmatizer = nltk.WordNetLemmatizer()"
   ]
  },
  {
   "cell_type": "code",
   "execution_count": 50,
   "outputs": [],
   "source": [
    "def load_datasets(parent_folder_name):\n",
    "    dataset=[]\n",
    "    # Get a list of all items in the folder\n",
    "    items = os.listdir(parent_folder_name)\n",
    "\n",
    "    # Filter out folders from the list\n",
    "    folder_list = [item for item in items if os.path.isdir(os.path.join(parent_folder_name, item))]\n",
    "    for folder_name in folder_list:\n",
    "        file_list = glob.glob(os.path.join(os.path.join(parent_folder_name,folder_name), \"*\"))\n",
    "\n",
    "        # Iterate over each file\n",
    "        for file_path in file_list:\n",
    "            with open(file_path, \"r\") as file:\n",
    "                content = file.read()\n",
    "                dataset.append([content,folder_name])\n",
    "    return dataset\n",
    "\n",
    "\n",
    "def get_embedding(key,glove):\n",
    "    if key in glove:\n",
    "        return glove.get_vector(key)\n",
    "    else:\n",
    "        return np.zeros(300)  # Return a zero vector if the key is not found\n",
    "\n",
    "def embed_dataset(dataset,glove):\n",
    "    for tuple in dataset:\n",
    "        tuple[0]=embed_document(tuple[0],glove)\n",
    "    return dataset\n",
    "\n",
    "def embed_document(document,glove):\n",
    "    # Tokenize the sentence into words\n",
    "    words = nltk.word_tokenize(document.lower())\n",
    "\n",
    "    # Embed each word and calculate the average embedding\n",
    "    embeddings = [get_embedding(word, glove) for word in words]\n",
    "    return np.mean(embeddings, axis=0)\n",
    "def get_dataset_elements_with_label(dataset,label):\n",
    "    elements=[]\n",
    "    for elem in dataset:\n",
    "        if(elem[1]==label):\n",
    "            elements.append(elem)\n",
    "    return elements"
   ],
   "metadata": {
    "collapsed": false
   }
  },
  {
   "cell_type": "code",
   "execution_count": 42,
   "outputs": [],
   "source": [
    "dataset=load_datasets(\"data-es4/data/20_NGs_400\")\n",
    "glove_file = \"glove.6B/glove.6B.300d.txt\"\n",
    "glove = KeyedVectors.load_word2vec_format(glove_file, no_header=True)"
   ],
   "metadata": {
    "collapsed": false
   }
  },
  {
   "cell_type": "code",
   "execution_count": 43,
   "outputs": [
    {
     "name": "stderr",
     "output_type": "stream",
     "text": [
      "C:\\Users\\Cavag\\AppData\\Local\\Temp\\ipykernel_28640\\2160524952.py:21: DeprecationWarning: Call to deprecated `word_vec` (Use get_vector instead).\n",
      "  return glove.word_vec(key)\n",
      "C:\\Users\\Cavag\\PycharmProjects\\Natural_Language_Techniques\\venv\\lib\\site-packages\\numpy\\core\\fromnumeric.py:3464: RuntimeWarning: Mean of empty slice.\n",
      "  return _methods._mean(a, axis=axis, dtype=dtype,\n",
      "C:\\Users\\Cavag\\PycharmProjects\\Natural_Language_Techniques\\venv\\lib\\site-packages\\numpy\\core\\_methods.py:192: RuntimeWarning: invalid value encountered in scalar divide\n",
      "  ret = ret.dtype.type(ret / rcount)\n"
     ]
    }
   ],
   "source": [
    "dataset=embed_dataset(dataset,glove)"
   ],
   "metadata": {
    "collapsed": false
   }
  },
  {
   "cell_type": "code",
   "execution_count": 125,
   "outputs": [],
   "source": [
    "random.seed(22)\n",
    "labels_set=set([t[1] for t in dataset])\n",
    "x_train_data= []\n",
    "y_train_data= []\n",
    "x_test_data= []\n",
    "y_test_data= []\n",
    "for label in labels_set:\n",
    "    label_dataset=get_dataset_elements_with_label(dataset,label)\n",
    "    train_set, test_set = train_test_split(label_dataset, test_size=0.1, random_state=21)\n",
    "    for elem in train_set:\n",
    "        x_train_data.append(elem[0])\n",
    "        y_train_data.append(elem[1])\n",
    "    for elem in test_set:\n",
    "        x_test_data.append(elem[0])\n",
    "        y_test_data.append(elem[1])"
   ],
   "metadata": {
    "collapsed": false
   }
  },
  {
   "cell_type": "code",
   "execution_count": 126,
   "outputs": [],
   "source": [
    "def get_features_with_same_label(features,labels,label):\n",
    "    correct_features=[]\n",
    "    for i,elem in enumerate(labels):\n",
    "        if(elem==label):\n",
    "            correct_features.append(features[i])\n",
    "    return correct_features\n",
    "\n",
    "def get_features_with_different_label(features,labels,label):\n",
    "    correct_features=[]\n",
    "    for i,elem in enumerate(labels):\n",
    "        if(elem!=label):\n",
    "            correct_features.append(features[i])\n",
    "    return correct_features\n",
    "\n",
    "def train_rocchio(features,labels,beta,gamma):\n",
    "    possible_labels=set(labels)\n",
    "    model=[]\n",
    "    for label in possible_labels:\n",
    "        positive_examples=get_features_with_same_label(features,labels,label)\n",
    "        negative_examples=get_features_with_different_label(features,labels,label)\n",
    "        positive_examples=beta*np.mean(positive_examples,axis=0)\n",
    "        negative_examples=gamma*np.mean(negative_examples,axis=0)\n",
    "        model.append(((positive_examples - negative_examples),label))\n",
    "    return model\n",
    "\n",
    "def predict(elem,model):\n",
    "    best_predict=None\n",
    "    best_similarity=-1\n",
    "    for label in model:\n",
    "        similarity = cosine_similarity(elem.reshape(1, -1), label[0].reshape(1, -1))[0]\n",
    "        if(best_similarity==-1):\n",
    "            best_similarity=similarity\n",
    "            best_predict=label[1]\n",
    "        elif(similarity>best_similarity):\n",
    "            best_similarity=similarity\n",
    "            best_predict=label[1]\n",
    "    return best_predict,best_similarity"
   ],
   "metadata": {
    "collapsed": false
   }
  },
  {
   "cell_type": "code",
   "execution_count": 127,
   "outputs": [
    {
     "name": "stdout",
     "output_type": "stream",
     "text": [
      "ERROR, EXPECTED rec.sport.hockey GOT talk.politics.guns WITH SIM:  [0.90316334]\n",
      "ERROR, EXPECTED rec.sport.hockey GOT comp.sys.mac.hardware WITH SIM:  [0.96967356]\n",
      "ERROR, EXPECTED talk.politics.guns GOT alt.atheism WITH SIM:  [0.98339126]\n",
      "ERROR, EXPECTED talk.politics.guns GOT sci.electronics WITH SIM:  [0.97862446]\n",
      "ERROR, EXPECTED sci.space GOT soc.religion.christian WITH SIM:  [0.81760462]\n",
      "ERROR, EXPECTED sci.space GOT comp.windows.x WITH SIM:  [0.97825692]\n",
      "ERROR, EXPECTED talk.politics.mideast GOT sci.med WITH SIM:  [0.98463395]\n",
      "ERROR, EXPECTED talk.politics.mideast GOT comp.os.ms-windows.misc WITH SIM:  [0.80014708]\n",
      "ERROR, EXPECTED talk.politics.misc GOT talk.religion.misc WITH SIM:  [0.97013493]\n",
      "ERROR, EXPECTED talk.politics.misc GOT sci.crypt WITH SIM:  [0.96538702]\n",
      "ERROR, EXPECTED rec.autos GOT comp.sys.mac.hardware WITH SIM:  [0.9674662]\n",
      "ERROR, EXPECTED rec.autos GOT rec.motorcycles WITH SIM:  [0.89145358]\n",
      "ERROR, EXPECTED soc.religion.christian GOT talk.politics.mideast WITH SIM:  [0.96511144]\n",
      "ERROR, EXPECTED soc.religion.christian GOT sci.electronics WITH SIM:  [0.97479529]\n",
      "ERROR, EXPECTED comp.sys.mac.hardware GOT talk.religion.misc WITH SIM:  [0.95636402]\n",
      "ERROR, EXPECTED comp.sys.mac.hardware GOT talk.politics.mideast WITH SIM:  [0.94735999]\n",
      "ERROR, EXPECTED comp.graphics GOT comp.sys.mac.hardware WITH SIM:  [0.97053739]\n",
      "ERROR, EXPECTED comp.graphics GOT talk.religion.misc WITH SIM:  [0.96329105]\n",
      "ERROR, EXPECTED rec.motorcycles GOT talk.politics.mideast WITH SIM:  [0.97691572]\n",
      "ERROR, EXPECTED rec.motorcycles GOT talk.religion.misc WITH SIM:  [0.95867334]\n",
      "ERROR, EXPECTED talk.religion.misc GOT talk.politics.mideast WITH SIM:  [0.95921229]\n",
      "ERROR, EXPECTED alt.atheism GOT sci.crypt WITH SIM:  [0.97303341]\n",
      "ERROR, EXPECTED alt.atheism GOT sci.electronics WITH SIM:  [0.97310297]\n",
      "ERROR, EXPECTED sci.med GOT sci.electronics WITH SIM:  [0.9612238]\n",
      "ERROR, EXPECTED sci.med GOT sci.electronics WITH SIM:  [0.93633046]\n",
      "ERROR, EXPECTED sci.electronics GOT rec.sport.hockey WITH SIM:  [0.94024335]\n",
      "ERROR, EXPECTED sci.electronics GOT comp.sys.ibm.pc.hardware WITH SIM:  [0.97459369]\n",
      "ERROR, EXPECTED rec.sport.baseball GOT rec.autos WITH SIM:  [0.96385302]\n",
      "ERROR, EXPECTED rec.sport.baseball GOT comp.sys.mac.hardware WITH SIM:  [0.96483594]\n",
      "ERROR, EXPECTED sci.crypt GOT misc.forsale WITH SIM:  [0.9818325]\n",
      "ERROR, EXPECTED sci.crypt GOT talk.religion.misc WITH SIM:  [0.96394976]\n",
      "ERROR, EXPECTED comp.os.ms-windows.misc GOT sci.electronics WITH SIM:  [0.95147027]\n",
      "ERROR, EXPECTED comp.os.ms-windows.misc GOT talk.politics.mideast WITH SIM:  [0.95580651]\n",
      "ERROR, EXPECTED misc.forsale GOT sci.med WITH SIM:  [0.85620596]\n",
      "ERROR, EXPECTED misc.forsale GOT comp.sys.ibm.pc.hardware WITH SIM:  [0.96539233]\n",
      "ERROR, EXPECTED comp.windows.x GOT talk.religion.misc WITH SIM:  [0.95999201]\n",
      "ERROR, EXPECTED comp.windows.x GOT sci.electronics WITH SIM:  [0.96823122]\n",
      "ERROR, EXPECTED comp.sys.ibm.pc.hardware GOT sci.electronics WITH SIM:  [0.96019544]\n",
      "ERROR, EXPECTED comp.sys.ibm.pc.hardware GOT sci.electronics WITH SIM:  [0.97299501]\n",
      "Accuracy: 40.0 %\n"
     ]
    }
   ],
   "source": [
    "model=train_rocchio(x_train_data,y_test_data,16,4)\n",
    "hit=0\n",
    "for i,elem in enumerate(x_test_data):\n",
    "    predicted_value,sim=predict(elem,model)\n",
    "    if(predicted_value==y_test_data[i]):\n",
    "        hit+=1\n",
    "    else:\n",
    "        print(\"ERROR, EXPECTED\",y_test_data[i],\"GOT\",predicted_value,\"WITH SIM: \",sim)\n",
    "\n",
    "print(\"Accuracy:\",len(x_test_data)/hit,\"%\")"
   ],
   "metadata": {
    "collapsed": false
   }
  },
  {
   "cell_type": "code",
   "execution_count": null,
   "outputs": [],
   "source": [],
   "metadata": {
    "collapsed": false,
    "pycharm": {
     "is_executing": true
    }
   }
  },
  {
   "cell_type": "code",
   "execution_count": null,
   "outputs": [],
   "source": [],
   "metadata": {
    "collapsed": false
   }
  }
 ],
 "metadata": {
  "kernelspec": {
   "display_name": "Python 3",
   "language": "python",
   "name": "python3"
  },
  "language_info": {
   "codemirror_mode": {
    "name": "ipython",
    "version": 2
   },
   "file_extension": ".py",
   "mimetype": "text/x-python",
   "name": "python",
   "nbconvert_exporter": "python",
   "pygments_lexer": "ipython2",
   "version": "2.7.6"
  }
 },
 "nbformat": 4,
 "nbformat_minor": 0
}
